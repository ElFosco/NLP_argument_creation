{
  "nbformat": 4,
  "nbformat_minor": 0,
  "metadata": {
    "colab": {
      "name": "Argument_similarity.ipynb",
      "provenance": [],
      "collapsed_sections": [],
      "authorship_tag": "ABX9TyPAdmGgg2keQ5/zZZN3TZY0",
      "include_colab_link": true
    },
    "kernelspec": {
      "name": "python3",
      "display_name": "Python 3"
    },
    "language_info": {
      "name": "python"
    }
  },
  "cells": [
    {
      "cell_type": "markdown",
      "metadata": {
        "id": "view-in-github",
        "colab_type": "text"
      },
      "source": [
        "<a href=\"https://colab.research.google.com/github/ElFosco/NLP_argument_creation/blob/main/Argument_similarity.ipynb\" target=\"_parent\"><img src=\"https://colab.research.google.com/assets/colab-badge.svg\" alt=\"Open In Colab\"/></a>"
      ]
    },
    {
      "cell_type": "markdown",
      "source": [
        "# Clone the repo with the models\n"
      ],
      "metadata": {
        "id": "r_PbACLjtANo"
      }
    },
    {
      "cell_type": "code",
      "source": [
        "! git clone https://github.com/UKPLab/acl2019-BERT-argument-classification-and-clustering"
      ],
      "metadata": {
        "id": "hYO65teylm_t"
      },
      "execution_count": null,
      "outputs": []
    },
    {
      "cell_type": "code",
      "source": [
        "# Install the correct version \n",
        "! pip install pytorch-pretrained-bert==0.6.2 sklearn scipy"
      ],
      "metadata": {
        "id": "GrHwQCcIk7eE"
      },
      "execution_count": null,
      "outputs": []
    },
    {
      "cell_type": "markdown",
      "source": [
        "#Load the model trained on the complete UKP Aspects Corpus and the dataset"
      ],
      "metadata": {
        "id": "wbxxcH_WqjeK"
      }
    },
    {
      "cell_type": "code",
      "source": [
        "! wget https://public.ukp.informatik.tu-darmstadt.de/reimers/2019_acl-BERT-argument-classification-and-clustering/models/argument_similarity_ukp_aspects_all.zip\n",
        "! wget https://tudatalib.ulb.tu-darmstadt.de/bitstream/handle/tudatalib/1998/UKP_ASPECT.zip?sequence=1&isAllowed=y"
      ],
      "metadata": {
        "id": "PnGPYdX2rBW6"
      },
      "execution_count": null,
      "outputs": []
    },
    {
      "cell_type": "markdown",
      "source": [
        "#Load the model trained on the complete AFS corpus from Misra et al the dataset"
      ],
      "metadata": {
        "id": "zftbCnHArr3S"
      }
    },
    {
      "cell_type": "code",
      "source": [
        "! wget https://public.ukp.informatik.tu-darmstadt.de/reimers/2019_acl-BERT-argument-classification-and-clustering/models/argument_similarity_misra_all.zip\n",
        "! wget http://nldslab.soe.ucsc.edu/afs16/Sigdial_16_release_data.zip"
      ],
      "metadata": {
        "id": "9W-wP5llrnpN"
      },
      "execution_count": null,
      "outputs": []
    },
    {
      "cell_type": "code",
      "source": [
        "#! python /content/acl2019-BERT-argument-classification-and-clustering/argument-similarity/inference.py"
      ],
      "metadata": {
        "id": "paMcm-1ulOoF"
      },
      "execution_count": null,
      "outputs": []
    },
    {
      "cell_type": "code",
      "source": [
        "import os\n",
        "os.chdir('/content/acl2019-BERT-argument-classification-and-clustering/argument-similarity')"
      ],
      "metadata": {
        "id": "YXSdrnWZt5EU"
      },
      "execution_count": null,
      "outputs": []
    },
    {
      "cell_type": "code",
      "source": [
        "! mkdir models\n",
        "#Unzip the models\n",
        "! unzip /content/argument_similarity_ukp_aspects_all.zip -d models\n",
        "! unzip /content/argument_similarity_misra_all.zip -d models\n",
        "#Unzip the datasets\n",
        "! unzip /content/UKP_ASPECT.zip?sequence=1 -d datasets\n",
        "! unzip /content/Sigdial_16_release_data.zip -d datasets"
      ],
      "metadata": {
        "id": "V8WJOfXVvl7w"
      },
      "execution_count": null,
      "outputs": []
    },
    {
      "cell_type": "markdown",
      "source": [
        "## Training UKP Aspects Corpus"
      ],
      "metadata": {
        "id": "V4byp3Yz6AOS"
      }
    },
    {
      "cell_type": "code",
      "source": [
        "# we can choose whether to train on the entire dataset or on a subset(train/dev/test), we can test also on other datasets\n",
        "! sh train_ukp.sh\n",
        "# after this the output will be in the bert_output directory"
      ],
      "metadata": {
        "id": "hAgCG_P_6Jod"
      },
      "execution_count": null,
      "outputs": []
    },
    {
      "cell_type": "markdown",
      "source": [
        "## Training Argument Facet Similarity (AFS) Corpus"
      ],
      "metadata": {
        "id": "jod-NDxl51_g"
      }
    },
    {
      "cell_type": "code",
      "source": [
        "! sh train_misra.sh"
      ],
      "metadata": {
        "id": "uSizOs834mCs"
      },
      "execution_count": null,
      "outputs": []
    },
    {
      "cell_type": "code",
      "source": [
        "#choose the model to use\n",
        "model_path = 'models/misra_all' #@param {type:\"string\"}\n",
        "\n",
        "\n",
        "max_seq_length = 64\n",
        "eval_batch_size = 8"
      ],
      "metadata": {
        "id": "mE3tHtS3ur3N"
      },
      "execution_count": null,
      "outputs": []
    },
    {
      "cell_type": "markdown",
      "source": [
        "# An example of application with the model trained on the entire dataset"
      ],
      "metadata": {
        "id": "RAjhnhGR711m"
      }
    },
    {
      "cell_type": "code",
      "source": [
        "from pytorch_pretrained_bert.tokenization import BertTokenizer\n",
        "import torch\n",
        "from torch.utils.data import TensorDataset, DataLoader, SequentialSampler\n",
        "from train import InputExample, convert_examples_to_features\n",
        "from SigmoidBERT import SigmoidBERT\n",
        "\n",
        "\n",
        "model_path = 'models/misra_all' #misra_all model: Trained on all 3 topics from Misra et al., 2016\n",
        "\n",
        "\n",
        "max_seq_length = 64\n",
        "eval_batch_size = 8\n",
        "\n",
        "arguments = ['Cannabis should be legal because is not harmful substance',\n",
        "             'Weed is a substance useful for the treatment of cancer.',\n",
        "             'Zoos are detrimental to animals\\' physical health.',\n",
        "             'Zoo confinement is psychologically damaging to animals.',\n",
        "             'Eating meat is not cruel or unethical; it is a natural part of the cycle of life. ',\n",
        "             'It is cruel and unethical to kill animals for food when vegetarian options are available',\n",
        "             'Overwhelming scientific consensus says human activity is primarily responsible for global climate change.',\n",
        "             'Rising levels of human-produced gases released into the atmosphere create a greenhouse effect that traps heat and causes global warming.'\n",
        "             ]\n",
        "\n",
        "#Compare every argument with each other\n",
        "input_examples = []\n",
        "output_examples = []\n",
        "\n",
        "for i in range(0, len(arguments)-1):\n",
        "    for j in range(i+1, len(arguments)):\n",
        "        input_examples.append(InputExample(text_a=arguments[i], text_b=arguments[j], label=-1))\n",
        "        output_examples.append([arguments[i], arguments[j]])\n",
        "\n",
        "\n",
        "tokenizer = BertTokenizer.from_pretrained(model_path, do_lower_case=True)\n",
        "eval_features = convert_examples_to_features(input_examples, max_seq_length, tokenizer)\n",
        "\n",
        "all_input_ids = torch.tensor([f.input_ids for f in eval_features], dtype=torch.long)\n",
        "all_input_mask = torch.tensor([f.input_mask for f in eval_features], dtype=torch.long)\n",
        "all_segment_ids = torch.tensor([f.segment_ids for f in eval_features], dtype=torch.long)\n",
        "\n",
        "eval_data = TensorDataset(all_input_ids, all_input_mask, all_segment_ids)\n",
        "eval_sampler = SequentialSampler(eval_data)\n",
        "eval_dataloader = DataLoader(eval_data, sampler=eval_sampler, batch_size=eval_batch_size)\n",
        "\n",
        "\n",
        "\n",
        "device = torch.device(\"cuda\" if torch.cuda.is_available() else \"cpu\")\n",
        "model = SigmoidBERT.from_pretrained(model_path,)\n",
        "model.to(device)\n",
        "model.eval()\n",
        "\n",
        "predicted_logits = []\n",
        "with torch.no_grad():\n",
        "    for input_ids, input_mask, segment_ids in eval_dataloader:\n",
        "        input_ids = input_ids.to(device)\n",
        "        input_mask = input_mask.to(device)\n",
        "        segment_ids = segment_ids.to(device)\n",
        "\n",
        "        logits = model(input_ids, segment_ids, input_mask)\n",
        "        logits = logits.detach().cpu().numpy()\n",
        "        predicted_logits.extend(logits[:, 0])\n",
        "\n",
        "\n",
        "\n",
        "\n",
        "for idx in range(len(predicted_logits)):\n",
        "    output_examples[idx].append(predicted_logits[idx])\n",
        "\n",
        "#Sort by similarity\n",
        "output_examples = sorted(output_examples, key=lambda x: x[2], reverse=True)\n",
        "\n",
        "print(\"Predicted similarities (sorted by similarity):\")\n",
        "for idx in range(len(output_examples)):\n",
        "    example = output_examples[idx]\n",
        "    print(\"Sentence A:\", example[0])\n",
        "    print(\"Sentence B:\", example[1])\n",
        "    print(\"Similarity:\", example[2])\n",
        "    print(\"\")"
      ],
      "metadata": {
        "colab": {
          "base_uri": "https://localhost:8080/"
        },
        "id": "jWbkz_8Y67Jm",
        "outputId": "7faabc44-7dd8-41b2-ee8a-36698cbf2220"
      },
      "execution_count": 17,
      "outputs": [
        {
          "output_type": "stream",
          "name": "stderr",
          "text": [
            "loading vocabulary file models/misra_all/vocab.txt\n",
            ":: Sentences longer than max_sequence_length: 0\n",
            ":: Num sentences: 28\n",
            "loading archive file models/misra_all\n",
            "Model config {\n",
            "  \"attention_probs_dropout_prob\": 0.1,\n",
            "  \"hidden_act\": \"gelu\",\n",
            "  \"hidden_dropout_prob\": 0.1,\n",
            "  \"hidden_size\": 768,\n",
            "  \"initializer_range\": 0.02,\n",
            "  \"intermediate_size\": 3072,\n",
            "  \"max_position_embeddings\": 512,\n",
            "  \"num_attention_heads\": 12,\n",
            "  \"num_hidden_layers\": 12,\n",
            "  \"type_vocab_size\": 2,\n",
            "  \"vocab_size\": 30522\n",
            "}\n",
            "\n"
          ]
        },
        {
          "output_type": "stream",
          "name": "stdout",
          "text": [
            "Predicted similarities (sorted by similarity):\n",
            "Sentence A: Zoos are detrimental to animals' physical health.\n",
            "Sentence B: Zoo confinement is psychologically damaging to animals.\n",
            "Similarity: 0.8723387\n",
            "\n",
            "Sentence A: Eating meat is not cruel or unethical; it is a natural part of the cycle of life. \n",
            "Sentence B: It is cruel and unethical to kill animals for food when vegetarian options are available\n",
            "Similarity: 0.77635074\n",
            "\n",
            "Sentence A: Overwhelming scientific consensus says human activity is primarily responsible for global climate change.\n",
            "Sentence B: Rising levels of human-produced gases released into the atmosphere create a greenhouse effect that traps heat and causes global warming.\n",
            "Similarity: 0.67724043\n",
            "\n",
            "Sentence A: Cannabis should be legal because is not harmful substance\n",
            "Sentence B: Weed is a substance useful for the treatment of cancer.\n",
            "Similarity: 0.59671324\n",
            "\n",
            "Sentence A: Zoos are detrimental to animals' physical health.\n",
            "Sentence B: It is cruel and unethical to kill animals for food when vegetarian options are available\n",
            "Similarity: 0.49322528\n",
            "\n",
            "Sentence A: Zoo confinement is psychologically damaging to animals.\n",
            "Sentence B: It is cruel and unethical to kill animals for food when vegetarian options are available\n",
            "Similarity: 0.4237893\n",
            "\n",
            "Sentence A: Weed is a substance useful for the treatment of cancer.\n",
            "Sentence B: Overwhelming scientific consensus says human activity is primarily responsible for global climate change.\n",
            "Similarity: 0.29159972\n",
            "\n",
            "Sentence A: Weed is a substance useful for the treatment of cancer.\n",
            "Sentence B: Rising levels of human-produced gases released into the atmosphere create a greenhouse effect that traps heat and causes global warming.\n",
            "Similarity: 0.28214422\n",
            "\n",
            "Sentence A: Zoos are detrimental to animals' physical health.\n",
            "Sentence B: Rising levels of human-produced gases released into the atmosphere create a greenhouse effect that traps heat and causes global warming.\n",
            "Similarity: 0.275754\n",
            "\n",
            "Sentence A: Zoo confinement is psychologically damaging to animals.\n",
            "Sentence B: Eating meat is not cruel or unethical; it is a natural part of the cycle of life. \n",
            "Similarity: 0.27138183\n",
            "\n",
            "Sentence A: Cannabis should be legal because is not harmful substance\n",
            "Sentence B: Rising levels of human-produced gases released into the atmosphere create a greenhouse effect that traps heat and causes global warming.\n",
            "Similarity: 0.26484442\n",
            "\n",
            "Sentence A: Cannabis should be legal because is not harmful substance\n",
            "Sentence B: Zoo confinement is psychologically damaging to animals.\n",
            "Similarity: 0.26432034\n",
            "\n",
            "Sentence A: Cannabis should be legal because is not harmful substance\n",
            "Sentence B: It is cruel and unethical to kill animals for food when vegetarian options are available\n",
            "Similarity: 0.26272458\n",
            "\n",
            "Sentence A: Cannabis should be legal because is not harmful substance\n",
            "Sentence B: Overwhelming scientific consensus says human activity is primarily responsible for global climate change.\n",
            "Similarity: 0.25894144\n",
            "\n",
            "Sentence A: Zoo confinement is psychologically damaging to animals.\n",
            "Sentence B: Overwhelming scientific consensus says human activity is primarily responsible for global climate change.\n",
            "Similarity: 0.2587553\n",
            "\n",
            "Sentence A: Weed is a substance useful for the treatment of cancer.\n",
            "Sentence B: Zoo confinement is psychologically damaging to animals.\n",
            "Similarity: 0.2565142\n",
            "\n",
            "Sentence A: Zoos are detrimental to animals' physical health.\n",
            "Sentence B: Overwhelming scientific consensus says human activity is primarily responsible for global climate change.\n",
            "Similarity: 0.25465757\n",
            "\n",
            "Sentence A: It is cruel and unethical to kill animals for food when vegetarian options are available\n",
            "Sentence B: Rising levels of human-produced gases released into the atmosphere create a greenhouse effect that traps heat and causes global warming.\n",
            "Similarity: 0.25436607\n",
            "\n",
            "Sentence A: Zoo confinement is psychologically damaging to animals.\n",
            "Sentence B: Rising levels of human-produced gases released into the atmosphere create a greenhouse effect that traps heat and causes global warming.\n",
            "Similarity: 0.25364667\n",
            "\n",
            "Sentence A: It is cruel and unethical to kill animals for food when vegetarian options are available\n",
            "Sentence B: Overwhelming scientific consensus says human activity is primarily responsible for global climate change.\n",
            "Similarity: 0.24093044\n",
            "\n",
            "Sentence A: Eating meat is not cruel or unethical; it is a natural part of the cycle of life. \n",
            "Sentence B: Overwhelming scientific consensus says human activity is primarily responsible for global climate change.\n",
            "Similarity: 0.2374987\n",
            "\n",
            "Sentence A: Weed is a substance useful for the treatment of cancer.\n",
            "Sentence B: It is cruel and unethical to kill animals for food when vegetarian options are available\n",
            "Similarity: 0.23573212\n",
            "\n",
            "Sentence A: Eating meat is not cruel or unethical; it is a natural part of the cycle of life. \n",
            "Sentence B: Rising levels of human-produced gases released into the atmosphere create a greenhouse effect that traps heat and causes global warming.\n",
            "Similarity: 0.23454891\n",
            "\n",
            "Sentence A: Cannabis should be legal because is not harmful substance\n",
            "Sentence B: Eating meat is not cruel or unethical; it is a natural part of the cycle of life. \n",
            "Similarity: 0.23406874\n",
            "\n",
            "Sentence A: Weed is a substance useful for the treatment of cancer.\n",
            "Sentence B: Zoos are detrimental to animals' physical health.\n",
            "Similarity: 0.23312537\n",
            "\n",
            "Sentence A: Zoos are detrimental to animals' physical health.\n",
            "Sentence B: Eating meat is not cruel or unethical; it is a natural part of the cycle of life. \n",
            "Similarity: 0.23134626\n",
            "\n",
            "Sentence A: Weed is a substance useful for the treatment of cancer.\n",
            "Sentence B: Eating meat is not cruel or unethical; it is a natural part of the cycle of life. \n",
            "Similarity: 0.22908032\n",
            "\n",
            "Sentence A: Cannabis should be legal because is not harmful substance\n",
            "Sentence B: Zoos are detrimental to animals' physical health.\n",
            "Similarity: 0.22206274\n",
            "\n"
          ]
        }
      ]
    }
  ]
}