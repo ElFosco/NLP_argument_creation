{
  "nbformat": 4,
  "nbformat_minor": 0,
  "metadata": {
    "colab": {
      "name": "Data_analysis.ipynb",
      "provenance": [],
      "collapsed_sections": [],
      "authorship_tag": "ABX9TyM4iUiS0jVcsSTxXZejo07Y",
      "include_colab_link": true
    },
    "kernelspec": {
      "name": "python3",
      "display_name": "Python 3"
    },
    "language_info": {
      "name": "python"
    }
  },
  "cells": [
    {
      "cell_type": "markdown",
      "metadata": {
        "id": "view-in-github",
        "colab_type": "text"
      },
      "source": [
        "<a href=\"https://colab.research.google.com/github/ElFosco/NLP_score/blob/main/Data_analysis.ipynb\" target=\"_parent\"><img src=\"https://colab.research.google.com/assets/colab-badge.svg\" alt=\"Open In Colab\"/></a>"
      ]
    },
    {
      "cell_type": "markdown",
      "source": [
        "#Data Exploration"
      ],
      "metadata": {
        "id": "xE_to76fAVf7"
      }
    },
    {
      "cell_type": "code",
      "source": [
        "#Using google drive to upload the data\n",
        "from google.colab import drive\n",
        "drive.mount('/content/drive')\n",
        "\n",
        "dir_path = \"drive/MyDrive/NLP_project/Datasets/\"\n",
        "dataset = \"arg_quality_rank_30k.csv\"\n",
        "#dataset = \"base.csv\"\n",
        "#dataset = 'name_of_ACTUALS__data'"
      ],
      "metadata": {
        "colab": {
          "base_uri": "https://localhost:8080/"
        },
        "id": "wn6dyvb0AzdK",
        "outputId": "b9959320-243f-46e5-b4e8-20c7a06c068f"
      },
      "execution_count": null,
      "outputs": [
        {
          "output_type": "stream",
          "name": "stdout",
          "text": [
            "Drive already mounted at /content/drive; to attempt to forcibly remount, call drive.mount(\"/content/drive\", force_remount=True).\n"
          ]
        }
      ]
    },
    {
      "cell_type": "code",
      "source": [
        "import pandas as pd\n",
        "import seaborn as sns\n",
        "from matplotlib import pyplot as plt\n",
        "import numpy as np"
      ],
      "metadata": {
        "id": "EmPHpfi8AkgA"
      },
      "execution_count": null,
      "outputs": []
    },
    {
      "cell_type": "code",
      "execution_count": null,
      "metadata": {
        "colab": {
          "base_uri": "https://localhost:8080/",
          "height": 206
        },
        "id": "Ca1VdgDoAURT",
        "outputId": "0a254198-2a82-4306-e6c3-a6ce022cfa92"
      },
      "outputs": [
        {
          "output_type": "execute_result",
          "data": {
            "text/html": [
              "\n",
              "  <div id=\"df-5ee67eca-595d-4b01-a698-f9f8383952f8\">\n",
              "    <div class=\"colab-df-container\">\n",
              "      <div>\n",
              "<style scoped>\n",
              "    .dataframe tbody tr th:only-of-type {\n",
              "        vertical-align: middle;\n",
              "    }\n",
              "\n",
              "    .dataframe tbody tr th {\n",
              "        vertical-align: top;\n",
              "    }\n",
              "\n",
              "    .dataframe thead th {\n",
              "        text-align: right;\n",
              "    }\n",
              "</style>\n",
              "<table border=\"1\" class=\"dataframe\">\n",
              "  <thead>\n",
              "    <tr style=\"text-align: right;\">\n",
              "      <th></th>\n",
              "      <th>argument</th>\n",
              "      <th>topic</th>\n",
              "      <th>set</th>\n",
              "      <th>WA</th>\n",
              "      <th>MACE-P</th>\n",
              "      <th>stance_WA</th>\n",
              "      <th>stance_WA_conf</th>\n",
              "    </tr>\n",
              "  </thead>\n",
              "  <tbody>\n",
              "    <tr>\n",
              "      <th>0</th>\n",
              "      <td>\"marriage\" isn't keeping up with the times.  a...</td>\n",
              "      <td>We should abandon marriage</td>\n",
              "      <td>train</td>\n",
              "      <td>0.846165</td>\n",
              "      <td>0.297659</td>\n",
              "      <td>1</td>\n",
              "      <td>1.000000</td>\n",
              "    </tr>\n",
              "    <tr>\n",
              "      <th>1</th>\n",
              "      <td>.a multi-party system would be too confusing a...</td>\n",
              "      <td>We should adopt a multi-party system</td>\n",
              "      <td>train</td>\n",
              "      <td>0.891271</td>\n",
              "      <td>0.726133</td>\n",
              "      <td>-1</td>\n",
              "      <td>1.000000</td>\n",
              "    </tr>\n",
              "    <tr>\n",
              "      <th>2</th>\n",
              "      <td>\\ero-tolerance policy in schools should not be...</td>\n",
              "      <td>We should adopt a zero-tolerance policy in sch...</td>\n",
              "      <td>dev</td>\n",
              "      <td>0.721192</td>\n",
              "      <td>0.396953</td>\n",
              "      <td>-1</td>\n",
              "      <td>1.000000</td>\n",
              "    </tr>\n",
              "    <tr>\n",
              "      <th>3</th>\n",
              "      <td>`people reach their limit when it comes to the...</td>\n",
              "      <td>Assisted suicide should be a criminal offence</td>\n",
              "      <td>train</td>\n",
              "      <td>0.730395</td>\n",
              "      <td>0.225212</td>\n",
              "      <td>-1</td>\n",
              "      <td>1.000000</td>\n",
              "    </tr>\n",
              "    <tr>\n",
              "      <th>4</th>\n",
              "      <td>100% agree, should they do that, it would be a...</td>\n",
              "      <td>We should abolish safe spaces</td>\n",
              "      <td>train</td>\n",
              "      <td>0.236686</td>\n",
              "      <td>0.004104</td>\n",
              "      <td>1</td>\n",
              "      <td>0.805517</td>\n",
              "    </tr>\n",
              "  </tbody>\n",
              "</table>\n",
              "</div>\n",
              "      <button class=\"colab-df-convert\" onclick=\"convertToInteractive('df-5ee67eca-595d-4b01-a698-f9f8383952f8')\"\n",
              "              title=\"Convert this dataframe to an interactive table.\"\n",
              "              style=\"display:none;\">\n",
              "        \n",
              "  <svg xmlns=\"http://www.w3.org/2000/svg\" height=\"24px\"viewBox=\"0 0 24 24\"\n",
              "       width=\"24px\">\n",
              "    <path d=\"M0 0h24v24H0V0z\" fill=\"none\"/>\n",
              "    <path d=\"M18.56 5.44l.94 2.06.94-2.06 2.06-.94-2.06-.94-.94-2.06-.94 2.06-2.06.94zm-11 1L8.5 8.5l.94-2.06 2.06-.94-2.06-.94L8.5 2.5l-.94 2.06-2.06.94zm10 10l.94 2.06.94-2.06 2.06-.94-2.06-.94-.94-2.06-.94 2.06-2.06.94z\"/><path d=\"M17.41 7.96l-1.37-1.37c-.4-.4-.92-.59-1.43-.59-.52 0-1.04.2-1.43.59L10.3 9.45l-7.72 7.72c-.78.78-.78 2.05 0 2.83L4 21.41c.39.39.9.59 1.41.59.51 0 1.02-.2 1.41-.59l7.78-7.78 2.81-2.81c.8-.78.8-2.07 0-2.86zM5.41 20L4 18.59l7.72-7.72 1.47 1.35L5.41 20z\"/>\n",
              "  </svg>\n",
              "      </button>\n",
              "      \n",
              "  <style>\n",
              "    .colab-df-container {\n",
              "      display:flex;\n",
              "      flex-wrap:wrap;\n",
              "      gap: 12px;\n",
              "    }\n",
              "\n",
              "    .colab-df-convert {\n",
              "      background-color: #E8F0FE;\n",
              "      border: none;\n",
              "      border-radius: 50%;\n",
              "      cursor: pointer;\n",
              "      display: none;\n",
              "      fill: #1967D2;\n",
              "      height: 32px;\n",
              "      padding: 0 0 0 0;\n",
              "      width: 32px;\n",
              "    }\n",
              "\n",
              "    .colab-df-convert:hover {\n",
              "      background-color: #E2EBFA;\n",
              "      box-shadow: 0px 1px 2px rgba(60, 64, 67, 0.3), 0px 1px 3px 1px rgba(60, 64, 67, 0.15);\n",
              "      fill: #174EA6;\n",
              "    }\n",
              "\n",
              "    [theme=dark] .colab-df-convert {\n",
              "      background-color: #3B4455;\n",
              "      fill: #D2E3FC;\n",
              "    }\n",
              "\n",
              "    [theme=dark] .colab-df-convert:hover {\n",
              "      background-color: #434B5C;\n",
              "      box-shadow: 0px 1px 3px 1px rgba(0, 0, 0, 0.15);\n",
              "      filter: drop-shadow(0px 1px 2px rgba(0, 0, 0, 0.3));\n",
              "      fill: #FFFFFF;\n",
              "    }\n",
              "  </style>\n",
              "\n",
              "      <script>\n",
              "        const buttonEl =\n",
              "          document.querySelector('#df-5ee67eca-595d-4b01-a698-f9f8383952f8 button.colab-df-convert');\n",
              "        buttonEl.style.display =\n",
              "          google.colab.kernel.accessAllowed ? 'block' : 'none';\n",
              "\n",
              "        async function convertToInteractive(key) {\n",
              "          const element = document.querySelector('#df-5ee67eca-595d-4b01-a698-f9f8383952f8');\n",
              "          const dataTable =\n",
              "            await google.colab.kernel.invokeFunction('convertToInteractive',\n",
              "                                                     [key], {});\n",
              "          if (!dataTable) return;\n",
              "\n",
              "          const docLinkHtml = 'Like what you see? Visit the ' +\n",
              "            '<a target=\"_blank\" href=https://colab.research.google.com/notebooks/data_table.ipynb>data table notebook</a>'\n",
              "            + ' to learn more about interactive tables.';\n",
              "          element.innerHTML = '';\n",
              "          dataTable['output_type'] = 'display_data';\n",
              "          await google.colab.output.renderOutput(dataTable, element);\n",
              "          const docLink = document.createElement('div');\n",
              "          docLink.innerHTML = docLinkHtml;\n",
              "          element.appendChild(docLink);\n",
              "        }\n",
              "      </script>\n",
              "    </div>\n",
              "  </div>\n",
              "  "
            ],
            "text/plain": [
              "                                            argument  ... stance_WA_conf\n",
              "0  \"marriage\" isn't keeping up with the times.  a...  ...       1.000000\n",
              "1  .a multi-party system would be too confusing a...  ...       1.000000\n",
              "2  \\ero-tolerance policy in schools should not be...  ...       1.000000\n",
              "3  `people reach their limit when it comes to the...  ...       1.000000\n",
              "4  100% agree, should they do that, it would be a...  ...       0.805517\n",
              "\n",
              "[5 rows x 7 columns]"
            ]
          },
          "metadata": {},
          "execution_count": 4
        }
      ],
      "source": [
        "df = pd.read_csv(dir_path + dataset)\n",
        "df.head()"
      ]
    },
    {
      "cell_type": "code",
      "source": [
        "df['argument'][1]"
      ],
      "metadata": {
        "colab": {
          "base_uri": "https://localhost:8080/",
          "height": 35
        },
        "id": "StdoafpbUKU0",
        "outputId": "96aa71a3-67f6-4a59-df01-33915c691373"
      },
      "execution_count": null,
      "outputs": [
        {
          "output_type": "execute_result",
          "data": {
            "application/vnd.google.colaboratory.intrinsic+json": {
              "type": "string"
            },
            "text/plain": [
              "'.a multi-party system would be too confusing and getting a consensus from the general public would be difficult.'"
            ]
          },
          "metadata": {},
          "execution_count": 47
        }
      ]
    },
    {
      "cell_type": "code",
      "source": [
        "df['topic'].nunique()"
      ],
      "metadata": {
        "colab": {
          "base_uri": "https://localhost:8080/"
        },
        "id": "Z7A_MXaRIxR4",
        "outputId": "5502f90c-38b0-4709-cb70-813f87b2fc5e"
      },
      "execution_count": null,
      "outputs": [
        {
          "output_type": "execute_result",
          "data": {
            "text/plain": [
              "71"
            ]
          },
          "metadata": {},
          "execution_count": 5
        }
      ]
    },
    {
      "cell_type": "code",
      "source": [
        "set_topic = df.topic.unique()\n",
        "dict_topic = {}"
      ],
      "metadata": {
        "id": "9HC-FCfELNYo"
      },
      "execution_count": null,
      "outputs": []
    },
    {
      "cell_type": "code",
      "source": [
        "for i in set_topic:\n",
        "  dict_topic[i] = df.loc[i==df['topic'],'topic'].values.size\n",
        "sorted(dict_topic.items(), key=lambda x: x[1], reverse=True)"
      ],
      "metadata": {
        "colab": {
          "base_uri": "https://localhost:8080/"
        },
        "id": "TKs69SnCMKff",
        "outputId": "3c2c9e36-e388-44e5-8e49-189f845ff4c2"
      },
      "execution_count": null,
      "outputs": [
        {
          "output_type": "execute_result",
          "data": {
            "text/plain": [
              "[('We should fight for the abolition of nuclear weapons', 554),\n",
              " ('We should legalize cannabis', 548),\n",
              " ('We should ban naturopathy', 540),\n",
              " ('Foster care brings more harm than good', 538),\n",
              " ('Blockade of the Gaza Strip should be ended', 521),\n",
              " ('We should legalize prostitution', 504),\n",
              " ('We should ban cosmetic surgery for minors', 502),\n",
              " ('We should legalize polygamy', 500),\n",
              " ('We should abolish the three-strikes laws', 499),\n",
              " ('We should end mandatory retirement', 484),\n",
              " ('We should abandon the use of school uniform', 480),\n",
              " ('Intelligence tests bring more harm than good', 472),\n",
              " ('We should abolish capital punishment', 470),\n",
              " ('Holocaust denial should be a criminal offence', 466),\n",
              " ('We should adopt a zero-tolerance policy in schools', 459),\n",
              " ('We should end affirmative action', 456),\n",
              " ('We should oppose collectivism', 454),\n",
              " ('We should close Guantanamo Bay detention camp', 447),\n",
              " ('Payday loans should be banned', 446),\n",
              " ('We should stop the development of autonomous cars', 446),\n",
              " ('We should ban telemarketing', 438),\n",
              " ('We should ban missionary work', 438),\n",
              " ('We should ban the use of child actors', 436),\n",
              " ('Surrogacy should be banned', 435),\n",
              " ('We should abolish intellectual property rights', 432),\n",
              " ('The vow of celibacy should be abandoned', 432),\n",
              " ('We should subsidize vocational education', 431),\n",
              " ('We should ban cosmetic surgery', 430),\n",
              " ('We should prohibit flag burning', 428),\n",
              " ('We should ban whaling', 428),\n",
              " ('The use of public defenders should be mandatory', 427),\n",
              " ('We should prohibit school prayer', 427),\n",
              " ('We should adopt an austerity regime', 424),\n",
              " ('We should ban human cloning', 423),\n",
              " ('We should ban fast food', 422),\n",
              " ('We should abandon marriage', 421),\n",
              " ('We should end racial profiling', 418),\n",
              " ('We should abolish the right to keep and bear arms', 415),\n",
              " ('We should ban factory farming', 414),\n",
              " ('We should ban targeted killing', 414),\n",
              " ('We should legalize organ trade', 413),\n",
              " ('We should abolish the Olympic Games', 410),\n",
              " ('We should ban the Church of Scientology', 407),\n",
              " ('We should introduce compulsory voting', 406),\n",
              " ('Entrapment should be legalized', 406),\n",
              " ('We should legalize sex selection', 405),\n",
              " ('We should fight urbanization', 405),\n",
              " ('We should subsidize stay-at-home dads', 405),\n",
              " ('We should abolish safe spaces', 404),\n",
              " ('We should adopt a multi-party system', 402),\n",
              " ('We should limit judicial activism', 402),\n",
              " ('We should adopt libertarianism', 400),\n",
              " ('We should subsidize Wikipedia', 400),\n",
              " ('We should end the use of economic sanctions', 400),\n",
              " ('We should subsidize embryonic stem cell research', 400),\n",
              " ('We should cancel pride parades', 399),\n",
              " ('We should ban private military companies', 397),\n",
              " ('Assisted suicide should be a criminal offence', 396),\n",
              " ('Homeschooling should be banned', 395),\n",
              " ('We should abolish zoos', 395),\n",
              " ('We should ban algorithmic trading', 390),\n",
              " ('We should abandon television', 389),\n",
              " ('We should subsidize space exploration', 388),\n",
              " ('We should subsidize student loans', 386),\n",
              " ('We should adopt gender-neutral language', 386),\n",
              " ('We should limit executive compensation', 381),\n",
              " ('We should adopt atheism', 379),\n",
              " ('We should prohibit women in combat', 375),\n",
              " ('We should subsidize journalism', 368),\n",
              " ('Homeopathy brings more harm than good', 358),\n",
              " ('Social media brings more harm than good', 331)]"
            ]
          },
          "metadata": {},
          "execution_count": 42
        }
      ]
    },
    {
      "cell_type": "code",
      "source": [
        "plt.bar(range(len(dict_topic)), list(dict_topic.values()), align='center')\n",
        "plt.xticks(range(len(dict_topic)), list(dict_topic.keys()))\n",
        "plt.show()\n"
      ],
      "metadata": {
        "colab": {
          "base_uri": "https://localhost:8080/",
          "height": 265
        },
        "id": "RgsXAfDHJEkh",
        "outputId": "5b19efc4-50a9-4b10-ff7c-65eeb5c7ca59"
      },
      "execution_count": null,
      "outputs": [
        {
          "output_type": "display_data",
          "data": {
            "image/png": "[encoded data removed]",
            "text/plain": [
              "<Figure size 432x288 with 1 Axes>"
            ]
          },
          "metadata": {
            "needs_background": "light"
          }
        }
      ]
    }
  ]
}